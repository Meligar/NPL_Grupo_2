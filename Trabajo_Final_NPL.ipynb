{
 "cells": [
  {
   "cell_type": "markdown",
   "metadata": {},
   "source": [
    "## Ejercicio 1.\n",
    "\n",
    "##### Carga y Exploración de Datos\n",
    "\n",
    "**Objetivo:** Familiarizarse con el conjunto de datos y comprender la distribución de las categorías.\n",
    "\n",
    "**Acciones:**\n",
    "* Cargar el archivo Noticias.xlsx que contiene las noticias.\n",
    "* Explorar la distribución de la columna Etiqueta para ver cuántas noticias pertenecen a cada categoría.\n",
    "* Visualizar esta distribución mediante gráficos para identificar las categorías más frecuentes."
   ]
  },
  {
   "cell_type": "markdown",
   "metadata": {},
   "source": [
    "# Librerias"
   ]
  },
  {
   "cell_type": "code",
   "execution_count": 55,
   "metadata": {},
   "outputs": [
    {
     "name": "stderr",
     "output_type": "stream",
     "text": [
      "[nltk_data] Downloading package punkt to\n",
      "[nltk_data]     C:\\Users\\Ermenegildo\\AppData\\Roaming\\nltk_data...\n",
      "[nltk_data]   Package punkt is already up-to-date!\n",
      "[nltk_data] Downloading package stopwords to\n",
      "[nltk_data]     C:\\Users\\Ermenegildo\\AppData\\Roaming\\nltk_data...\n",
      "[nltk_data]   Package stopwords is already up-to-date!\n",
      "[nltk_data] Downloading package snowball_data to\n",
      "[nltk_data]     C:\\Users\\Ermenegildo\\AppData\\Roaming\\nltk_data...\n",
      "[nltk_data]   Package snowball_data is already up-to-date!\n",
      "[nltk_data] Downloading package wordnet to\n",
      "[nltk_data]     C:\\Users\\Ermenegildo\\AppData\\Roaming\\nltk_data...\n",
      "[nltk_data]   Package wordnet is already up-to-date!\n"
     ]
    },
    {
     "data": {
      "text/plain": [
       "True"
      ]
     },
     "execution_count": 55,
     "metadata": {},
     "output_type": "execute_result"
    }
   ],
   "source": [
    "import re ## Exprexiones regulares\n",
    "import nltk ## Procesamiento de lenguaje natural\n",
    "from nltk.corpus import stopwords ## Palabras vacias\n",
    "from nltk.stem import SnowballStemmer ## Stemming\n",
    "from nltk.tokenize import word_tokenize ## Tokenizacion\n",
    "from nltk.tokenize import RegexpTokenizer ## Tokenizacion\n",
    "from sklearn.feature_extraction.text import CountVectorizer ## Vectorizador\n",
    "import spacy ## Procesamiento de lenguaje natural\n",
    "import pandas as pd\n",
    "import numpy as np\n",
    "import seaborn as sns\n",
    "import matplotlib.pyplot as plt\n",
    "from sklearn.utils import resample\n",
    "import string\n",
    "from tensorflow.keras.preprocessing.sequence import pad_sequences\n",
    "from tensorflow.keras.preprocessing.text import Tokenizer\n",
    "from sklearn.model_selection import train_test_split\n",
    "from sklearn.preprocessing import LabelEncoder\n",
    "\n",
    "############## Descarga de recursos de nltk ################\n",
    "nltk.download('punkt') ## Tokenizador\n",
    "nltk.download('stopwords') ## Palabras vacias\n",
    "nltk.download('snowball_data') ## Stemming\n",
    "nltk.download('wordnet') ## Lematizacion"
   ]
  },
  {
   "cell_type": "markdown",
   "metadata": {},
   "source": [
    "# Cargar los datos"
   ]
  },
  {
   "cell_type": "code",
   "execution_count": 56,
   "metadata": {},
   "outputs": [
    {
     "data": {
      "text/html": [
       "<div>\n",
       "<style scoped>\n",
       "    .dataframe tbody tr th:only-of-type {\n",
       "        vertical-align: middle;\n",
       "    }\n",
       "\n",
       "    .dataframe tbody tr th {\n",
       "        vertical-align: top;\n",
       "    }\n",
       "\n",
       "    .dataframe thead th {\n",
       "        text-align: right;\n",
       "    }\n",
       "</style>\n",
       "<table border=\"1\" class=\"dataframe\">\n",
       "  <thead>\n",
       "    <tr style=\"text-align: right;\">\n",
       "      <th></th>\n",
       "      <th>Columna1</th>\n",
       "      <th>Enlaces</th>\n",
       "      <th>Título</th>\n",
       "      <th>info</th>\n",
       "      <th>contenido</th>\n",
       "      <th>Etiqueta</th>\n",
       "    </tr>\n",
       "  </thead>\n",
       "  <tbody>\n",
       "    <tr>\n",
       "      <th>0</th>\n",
       "      <td>0</td>\n",
       "      <td>https://www.eltiempo.com/agresion-contra-un-op...</td>\n",
       "      <td>Operador de grúa quedó inconsciente tras agres...</td>\n",
       "      <td>El conductor de una moto le lanzó el casco y p...</td>\n",
       "      <td>Las autoridades están buscando al conductor de...</td>\n",
       "      <td>colombia</td>\n",
       "    </tr>\n",
       "    <tr>\n",
       "      <th>1</th>\n",
       "      <td>1</td>\n",
       "      <td>https://www.eltiempo.com/archivo/documento/CMS...</td>\n",
       "      <td>Usaquén, primera en infracciones por mal parqueo</td>\n",
       "      <td>La localidad ocupa el primer lugar en comparen...</td>\n",
       "      <td>\"Los andenes son para los peatones\", reclama e...</td>\n",
       "      <td>archivo</td>\n",
       "    </tr>\n",
       "    <tr>\n",
       "      <th>2</th>\n",
       "      <td>2</td>\n",
       "      <td>https://www.eltiempo.com/archivo/documento/CMS...</td>\n",
       "      <td>'Me atracaron y vi un arma que me heló la sang...</td>\n",
       "      <td>Un ciudadano relata cómo cuatro hombres lo rob...</td>\n",
       "      <td>A las 7 de la noche me había quedado de encont...</td>\n",
       "      <td>archivo</td>\n",
       "    </tr>\n",
       "    <tr>\n",
       "      <th>3</th>\n",
       "      <td>3</td>\n",
       "      <td>https://www.eltiempo.com/archivo/documento/CMS...</td>\n",
       "      <td>Escoltas mal estacionados, dolor de cabeza de ...</td>\n",
       "      <td>Las zonas de restaurantes se convierten en par...</td>\n",
       "      <td>Atravesados. Eso es lo que se les pasa por la ...</td>\n",
       "      <td>archivo</td>\n",
       "    </tr>\n",
       "    <tr>\n",
       "      <th>4</th>\n",
       "      <td>4</td>\n",
       "      <td>https://www.eltiempo.com/archivo/documento/CMS...</td>\n",
       "      <td>Radicado primer proyecto que autorizaría union...</td>\n",
       "      <td>El representante de 'la U', Miguel Gómez, dijo...</td>\n",
       "      <td>“Estamos proponiendo la figura de un contrato ...</td>\n",
       "      <td>archivo</td>\n",
       "    </tr>\n",
       "    <tr>\n",
       "      <th>...</th>\n",
       "      <td>...</td>\n",
       "      <td>...</td>\n",
       "      <td>...</td>\n",
       "      <td>...</td>\n",
       "      <td>...</td>\n",
       "      <td>...</td>\n",
       "    </tr>\n",
       "    <tr>\n",
       "      <th>14391</th>\n",
       "      <td>14391</td>\n",
       "      <td>https://www.eltiempo.com/vida/viajar/una-viaje...</td>\n",
       "      <td>Una viajera pensó que la aerolínea Viva Air le...</td>\n",
       "      <td>La mujer hizo la denuncia en redes. La aerolín...</td>\n",
       "      <td>En Twitter es tendencia 'FCAS' por una denunci...</td>\n",
       "      <td>vida</td>\n",
       "    </tr>\n",
       "    <tr>\n",
       "      <th>14392</th>\n",
       "      <td>14392</td>\n",
       "      <td>https://www.eltiempo.com/vida/viajar/un-dia-pe...</td>\n",
       "      <td>Un día perfecto en Coco Cay, la isla privada d...</td>\n",
       "      <td>El proyecto Global Private Island Collection c...</td>\n",
       "      <td>La naviera internacional Royal Caribbean prese...</td>\n",
       "      <td>vida</td>\n",
       "    </tr>\n",
       "    <tr>\n",
       "      <th>14393</th>\n",
       "      <td>14393</td>\n",
       "      <td>https://www.eltiempo.com/vida/viajar/visitar-b...</td>\n",
       "      <td>Barú: el paraíso colombiano abierto para todos...</td>\n",
       "      <td>Cuatro hoteles y el Aviario Nacional lanzarán ...</td>\n",
       "      <td>¿Necesita razones para ir a Barú? A menos de u...</td>\n",
       "      <td>vida</td>\n",
       "    </tr>\n",
       "    <tr>\n",
       "      <th>14394</th>\n",
       "      <td>14394</td>\n",
       "      <td>https://www.eltiempo.com/vida/viajar/we-trade-...</td>\n",
       "      <td>Con WeTrade, llega la hora LGBT a Bogotá</td>\n",
       "      <td>El 1 y 2 de noviembre se celebrará esta Feria ...</td>\n",
       "      <td>Se estima que la población LGTBI en Colombia e...</td>\n",
       "      <td>vida</td>\n",
       "    </tr>\n",
       "    <tr>\n",
       "      <th>14395</th>\n",
       "      <td>14395</td>\n",
       "      <td>https://www.eltiempo.com/vida/viajar/yovoy-cam...</td>\n",
       "      <td>#YoVoy, una invitación a viajar por Colombia</td>\n",
       "      <td>El presidente Duque lanzó la campaña nacional ...</td>\n",
       "      <td>Con la intención de que los colombianos conozc...</td>\n",
       "      <td>vida</td>\n",
       "    </tr>\n",
       "  </tbody>\n",
       "</table>\n",
       "<p>14396 rows × 6 columns</p>\n",
       "</div>"
      ],
      "text/plain": [
       "       Columna1                                            Enlaces  \\\n",
       "0             0  https://www.eltiempo.com/agresion-contra-un-op...   \n",
       "1             1  https://www.eltiempo.com/archivo/documento/CMS...   \n",
       "2             2  https://www.eltiempo.com/archivo/documento/CMS...   \n",
       "3             3  https://www.eltiempo.com/archivo/documento/CMS...   \n",
       "4             4  https://www.eltiempo.com/archivo/documento/CMS...   \n",
       "...         ...                                                ...   \n",
       "14391     14391  https://www.eltiempo.com/vida/viajar/una-viaje...   \n",
       "14392     14392  https://www.eltiempo.com/vida/viajar/un-dia-pe...   \n",
       "14393     14393  https://www.eltiempo.com/vida/viajar/visitar-b...   \n",
       "14394     14394  https://www.eltiempo.com/vida/viajar/we-trade-...   \n",
       "14395     14395  https://www.eltiempo.com/vida/viajar/yovoy-cam...   \n",
       "\n",
       "                                                  Título  \\\n",
       "0      Operador de grúa quedó inconsciente tras agres...   \n",
       "1       Usaquén, primera en infracciones por mal parqueo   \n",
       "2      'Me atracaron y vi un arma que me heló la sang...   \n",
       "3      Escoltas mal estacionados, dolor de cabeza de ...   \n",
       "4      Radicado primer proyecto que autorizaría union...   \n",
       "...                                                  ...   \n",
       "14391  Una viajera pensó que la aerolínea Viva Air le...   \n",
       "14392  Un día perfecto en Coco Cay, la isla privada d...   \n",
       "14393  Barú: el paraíso colombiano abierto para todos...   \n",
       "14394           Con WeTrade, llega la hora LGBT a Bogotá   \n",
       "14395       #YoVoy, una invitación a viajar por Colombia   \n",
       "\n",
       "                                                    info  \\\n",
       "0      El conductor de una moto le lanzó el casco y p...   \n",
       "1      La localidad ocupa el primer lugar en comparen...   \n",
       "2      Un ciudadano relata cómo cuatro hombres lo rob...   \n",
       "3      Las zonas de restaurantes se convierten en par...   \n",
       "4      El representante de 'la U', Miguel Gómez, dijo...   \n",
       "...                                                  ...   \n",
       "14391  La mujer hizo la denuncia en redes. La aerolín...   \n",
       "14392  El proyecto Global Private Island Collection c...   \n",
       "14393  Cuatro hoteles y el Aviario Nacional lanzarán ...   \n",
       "14394  El 1 y 2 de noviembre se celebrará esta Feria ...   \n",
       "14395  El presidente Duque lanzó la campaña nacional ...   \n",
       "\n",
       "                                               contenido  Etiqueta  \n",
       "0      Las autoridades están buscando al conductor de...  colombia  \n",
       "1      \"Los andenes son para los peatones\", reclama e...   archivo  \n",
       "2      A las 7 de la noche me había quedado de encont...   archivo  \n",
       "3      Atravesados. Eso es lo que se les pasa por la ...   archivo  \n",
       "4      “Estamos proponiendo la figura de un contrato ...   archivo  \n",
       "...                                                  ...       ...  \n",
       "14391  En Twitter es tendencia 'FCAS' por una denunci...      vida  \n",
       "14392  La naviera internacional Royal Caribbean prese...      vida  \n",
       "14393  ¿Necesita razones para ir a Barú? A menos de u...      vida  \n",
       "14394  Se estima que la población LGTBI en Colombia e...      vida  \n",
       "14395  Con la intención de que los colombianos conozc...      vida  \n",
       "\n",
       "[14396 rows x 6 columns]"
      ]
     },
     "execution_count": 56,
     "metadata": {},
     "output_type": "execute_result"
    }
   ],
   "source": [
    "df_Noticias = pd.read_excel(r'.\\Datos\\Datos_Crudos\\Noticias.xlsx')\n",
    "df_Noticias"
   ]
  },
  {
   "cell_type": "markdown",
   "metadata": {},
   "source": [
    "# Exploracion de la columna Etiqueta"
   ]
  },
  {
   "cell_type": "code",
   "execution_count": 57,
   "metadata": {},
   "outputs": [
    {
     "data": {
      "text/plain": [
       "Etiqueta\n",
       "archivo                 9187\n",
       "colombia                 934\n",
       "deportes                 727\n",
       "opinion                  532\n",
       "mundo                    446\n",
       "cultura                  430\n",
       "economia                 367\n",
       "justicia                 343\n",
       "bogota                   311\n",
       "vida                     268\n",
       "politica                 252\n",
       "tecnosfera               214\n",
       "salud                    106\n",
       "historias-el-tiempo       57\n",
       "mundial                   47\n",
       "contenido-comercial       34\n",
       "elecciones                33\n",
       "unidad-investigativa      27\n",
       "podcast                   20\n",
       "foro-w                    18\n",
       "bocas                     15\n",
       "carrusel                   8\n",
       "datos                      7\n",
       "lecturas-dominicales       6\n",
       "mas-contenido              4\n",
       "especiales                 3\n",
       "Name: count, dtype: int64"
      ]
     },
     "execution_count": 57,
     "metadata": {},
     "output_type": "execute_result"
    }
   ],
   "source": [
    "df_Noticias['Etiqueta'].value_counts()"
   ]
  },
  {
   "cell_type": "markdown",
   "metadata": {},
   "source": [
    "# Grafico de distribucion"
   ]
  },
  {
   "cell_type": "code",
   "execution_count": 58,
   "metadata": {},
   "outputs": [
    {
     "name": "stderr",
     "output_type": "stream",
     "text": [
      "C:\\Users\\Ermenegildo\\AppData\\Local\\Temp\\ipykernel_872\\970067192.py:6: FutureWarning: \n",
      "\n",
      "Passing `palette` without assigning `hue` is deprecated and will be removed in v0.14.0. Assign the `x` variable to `hue` and set `legend=False` for the same effect.\n",
      "\n",
      "  sns.barplot(\n"
     ]
    },
    {
     "data": {
      "image/png": "[encoded data removed]",
      "text/plain": [
       "<Figure size 1000x600 with 1 Axes>"
      ]
     },
     "metadata": {},
     "output_type": "display_data"
    }
   ],
   "source": [
    "# Contar las frecuencias de cada categoría en 'Etiqueta'\n",
    "categoria_frecuencias = df_Noticias['Etiqueta'].value_counts()\n",
    "\n",
    "# Crear un gráfico de barras para visualizar las frecuencias\n",
    "plt.figure(figsize=(10, 6))  # Tamaño del gráfico\n",
    "sns.barplot(\n",
    "    x=categoria_frecuencias.index,  # Categorías en el eje X\n",
    "    y=categoria_frecuencias.values,  # Frecuencias en el eje Y\n",
    "    palette=\"viridis\"  # Paleta de colores\n",
    ")\n",
    "\n",
    "# Personalización del gráfico\n",
    "plt.title('Frecuencia de Categorías en Etiqueta', fontsize=16)\n",
    "plt.xlabel('Categorías', fontsize=10)\n",
    "plt.ylabel('Frecuencia', fontsize=10)\n",
    "plt.xticks(rotation=90)  # Rotar etiquetas si hay muchas categorías\n",
    "plt.show()\n"
   ]
  },
  {
   "cell_type": "markdown",
   "metadata": {},
   "source": [
    "# Ejercicio 2\n",
    "\n",
    "#### Filtrado de Datos\n",
    "\n",
    "**Objetivo:** Limitar el conjunto de datos a las categorías relevantes para garantizar que el modelo se entrene y evalúe en temas especializados.\n",
    "\n",
    "**Acciones:**\n",
    "* Excluir las noticias que pertenecen a la categoría \"archivo\" y cualquier otra que no esté en las categorías de deportes, cultura, economía y justicia.\n",
    "* Asegurarse de que el conjunto de datos resultante tenga una distribución equilibrada para estas categorías, en la medida de lo posible."
   ]
  },
  {
   "cell_type": "markdown",
   "metadata": {},
   "source": [
    "# Excluir categorias"
   ]
  },
  {
   "cell_type": "code",
   "execution_count": 59,
   "metadata": {},
   "outputs": [],
   "source": [
    "# Lista de etiquetas a filtrar\n",
    "etiquetas = ['deportes', 'cultura','economia','justicia']\n",
    "\n",
    "# Filtrar filas donde la columna 'Etiqueta' contiene alguno de los valores en la lista\n",
    "df_Noticias_Filtro = df_Noticias[df_Noticias['Etiqueta'].isin(etiquetas)].reset_index(drop=True)"
   ]
  },
  {
   "cell_type": "code",
   "execution_count": 60,
   "metadata": {},
   "outputs": [
    {
     "data": {
      "text/plain": [
       "Etiqueta\n",
       "deportes    727\n",
       "cultura     430\n",
       "economia    367\n",
       "justicia    343\n",
       "Name: count, dtype: int64"
      ]
     },
     "execution_count": 60,
     "metadata": {},
     "output_type": "execute_result"
    }
   ],
   "source": [
    "df_Noticias_Filtro['Etiqueta'].value_counts()"
   ]
  },
  {
   "cell_type": "markdown",
   "metadata": {},
   "source": [
    "# Distribucion Equilibrada"
   ]
  },
  {
   "cell_type": "code",
   "execution_count": 61,
   "metadata": {},
   "outputs": [],
   "source": [
    "# Se eliminan los registros nulos\n",
    "df_Noticias_Filtro = df_Noticias_Filtro.dropna(subset=['contenido']).reset_index(drop=True)"
   ]
  },
  {
   "cell_type": "code",
   "execution_count": 62,
   "metadata": {},
   "outputs": [],
   "source": [
    "# Encuentra el tamaño de la categoría con menos ocurrencias\n",
    "min_size = df_Noticias_Filtro['Etiqueta'].value_counts().min()\n",
    "\n",
    "# Realiza el submuestreo para cada categoría\n",
    "df_submuestreado = df_Noticias_Filtro.groupby('Etiqueta').sample(n=min_size, random_state=42).reset_index(drop=True)"
   ]
  },
  {
   "cell_type": "code",
   "execution_count": 63,
   "metadata": {},
   "outputs": [
    {
     "data": {
      "text/plain": [
       "Etiqueta\n",
       "cultura     343\n",
       "deportes    343\n",
       "economia    343\n",
       "justicia    343\n",
       "Name: count, dtype: int64"
      ]
     },
     "execution_count": 63,
     "metadata": {},
     "output_type": "execute_result"
    }
   ],
   "source": [
    "df_submuestreado['Etiqueta'].value_counts()"
   ]
  },
  {
   "cell_type": "markdown",
   "metadata": {},
   "source": [
    "# Ejercicio 3\n",
    "\n",
    "#### Preprocesamiento de Texto\n",
    "\n",
    "**Objetivo:** Preparar los datos textuales para el entrenamiento del modelo.\n",
    "\n",
    "**Acciones:**\n",
    "* Convertir todo el texto a minúsculas para uniformidad.\n",
    "* Eliminar puntuación y números para reducir el ruido en los datos.\n",
    "* Eliminar palabras comunes (stop words) que no aportan significado específico al análisis.\n",
    "* Tokenizar el texto, es decir, dividir el texto en palabras individuales.\n",
    "* Aplicar padding a las secuencias de palabras para que todas tengan la misma longitud, facilitando el procesamiento por las redes neuronales."
   ]
  },
  {
   "cell_type": "markdown",
   "metadata": {},
   "source": [
    "# Paso 1: Prepocesamiento de Texto"
   ]
  },
  {
   "cell_type": "code",
   "execution_count": 64,
   "metadata": {},
   "outputs": [
    {
     "data": {
      "text/html": [
       "<div>\n",
       "<style scoped>\n",
       "    .dataframe tbody tr th:only-of-type {\n",
       "        vertical-align: middle;\n",
       "    }\n",
       "\n",
       "    .dataframe tbody tr th {\n",
       "        vertical-align: top;\n",
       "    }\n",
       "\n",
       "    .dataframe thead th {\n",
       "        text-align: right;\n",
       "    }\n",
       "</style>\n",
       "<table border=\"1\" class=\"dataframe\">\n",
       "  <thead>\n",
       "    <tr style=\"text-align: right;\">\n",
       "      <th></th>\n",
       "      <th>contenido</th>\n",
       "      <th>contenido_preprocesado</th>\n",
       "    </tr>\n",
       "  </thead>\n",
       "  <tbody>\n",
       "    <tr>\n",
       "      <th>0</th>\n",
       "      <td>Siendo un niño, ‘El Sol de México’ se convirti...</td>\n",
       "      <td>siendo un niño el sol de méxico se convirtió e...</td>\n",
       "    </tr>\n",
       "    <tr>\n",
       "      <th>1</th>\n",
       "      <td>Las películas de Víctor Gaviria constituyen un...</td>\n",
       "      <td>las películas de víctor gaviria constituyen un...</td>\n",
       "    </tr>\n",
       "    <tr>\n",
       "      <th>2</th>\n",
       "      <td>Del inagotable repertorio de las salsas, no cr...</td>\n",
       "      <td>del inagotable repertorio de las salsas no cre...</td>\n",
       "    </tr>\n",
       "    <tr>\n",
       "      <th>3</th>\n",
       "      <td>La Casa 1537, ubicada en la calle del Colegio ...</td>\n",
       "      <td>la casa  ubicada en la calle del colegio del c...</td>\n",
       "    </tr>\n",
       "    <tr>\n",
       "      <th>4</th>\n",
       "      <td>Judas Priest, la banda británica fundamental e...</td>\n",
       "      <td>judas priest la banda británica fundamental en...</td>\n",
       "    </tr>\n",
       "  </tbody>\n",
       "</table>\n",
       "</div>"
      ],
      "text/plain": [
       "                                           contenido  \\\n",
       "0  Siendo un niño, ‘El Sol de México’ se convirti...   \n",
       "1  Las películas de Víctor Gaviria constituyen un...   \n",
       "2  Del inagotable repertorio de las salsas, no cr...   \n",
       "3  La Casa 1537, ubicada en la calle del Colegio ...   \n",
       "4  Judas Priest, la banda británica fundamental e...   \n",
       "\n",
       "                              contenido_preprocesado  \n",
       "0  siendo un niño el sol de méxico se convirtió e...  \n",
       "1  las películas de víctor gaviria constituyen un...  \n",
       "2  del inagotable repertorio de las salsas no cre...  \n",
       "3  la casa  ubicada en la calle del colegio del c...  \n",
       "4  judas priest la banda británica fundamental en...  "
      ]
     },
     "metadata": {},
     "output_type": "display_data"
    },
    {
     "name": "stdout",
     "output_type": "stream",
     "text": [
      "Dimensiones de los datos: (1372, 7)\n"
     ]
    }
   ],
   "source": [
    "# Función para preprocesar texto\n",
    "def preprocess_text(text):\n",
    "    \"\"\"\n",
    "    Esta función realiza el preprocesamiento del texto.\n",
    "    1. Convierte el texto a minúsculas.\n",
    "    2. Elimina la puntuación.\n",
    "    3. Elimina los números.\n",
    "    4. Elimina los espacios en blanco adicionales.\n",
    "\n",
    "    Parámetros:\n",
    "    text (str): El texto original.\n",
    "\n",
    "    Retorna:\n",
    "    str: El texto preprocesado.\n",
    "    \"\"\"\n",
    "    # Convertir a minúsculas\n",
    "    text = text.lower()\n",
    "    # Eliminar puntuación\n",
    "    text = text.translate(str.maketrans('', '', string.punctuation))\n",
    "    # Eliminar números\n",
    "    text = re.sub(r'\\d+', '', text)\n",
    "    # Eliminar espacios en blanco adicionales\n",
    "    text = text.strip()\n",
    "    # Eliminar todo lo que no sea alfanumérico o espacio\n",
    "    text = re.sub(r'[^\\w\\s]', '', text)\n",
    "    return text\n",
    "\n",
    "# Aplicar preprocesamiento al contenido\n",
    "df_submuestreado['contenido_preprocesado'] = df_submuestreado['contenido'].apply(preprocess_text)\n",
    "\n",
    "# Mostrar una vista previa de los datos preprocesados\n",
    "display(df_submuestreado[['contenido', 'contenido_preprocesado']].head())\n",
    "\n",
    "# Dimensiones de los datos\n",
    "print(f'Dimensiones de los datos: {df_submuestreado.shape}')"
   ]
  },
  {
   "cell_type": "code",
   "execution_count": 65,
   "metadata": {},
   "outputs": [
    {
     "data": {
      "text/html": [
       "<div>\n",
       "<style scoped>\n",
       "    .dataframe tbody tr th:only-of-type {\n",
       "        vertical-align: middle;\n",
       "    }\n",
       "\n",
       "    .dataframe tbody tr th {\n",
       "        vertical-align: top;\n",
       "    }\n",
       "\n",
       "    .dataframe thead th {\n",
       "        text-align: right;\n",
       "    }\n",
       "</style>\n",
       "<table border=\"1\" class=\"dataframe\">\n",
       "  <thead>\n",
       "    <tr style=\"text-align: right;\">\n",
       "      <th></th>\n",
       "      <th>Columna1</th>\n",
       "      <th>Enlaces</th>\n",
       "      <th>Título</th>\n",
       "      <th>info</th>\n",
       "      <th>contenido</th>\n",
       "      <th>Etiqueta</th>\n",
       "      <th>contenido_preprocesado</th>\n",
       "    </tr>\n",
       "  </thead>\n",
       "  <tbody>\n",
       "    <tr>\n",
       "      <th>0</th>\n",
       "      <td>10909</td>\n",
       "      <td>https://www.eltiempo.com/cultura/musica-y-libr...</td>\n",
       "      <td>Luis Miguel, 50 años de un sol sin ocaso</td>\n",
       "      <td>'El Sol de México' cumple 50 años. Su historia...</td>\n",
       "      <td>Siendo un niño, ‘El Sol de México’ se convirti...</td>\n",
       "      <td>cultura</td>\n",
       "      <td>siendo un niño el sol de méxico se convirtió e...</td>\n",
       "    </tr>\n",
       "    <tr>\n",
       "      <th>1</th>\n",
       "      <td>10562</td>\n",
       "      <td>https://www.eltiempo.com/cultura/cine-y-tv/cri...</td>\n",
       "      <td>Críticamente: Aquí y ahora</td>\n",
       "      <td>Las películas de Víctor Gaviria constituyen un...</td>\n",
       "      <td>Las películas de Víctor Gaviria constituyen un...</td>\n",
       "      <td>cultura</td>\n",
       "      <td>las películas de víctor gaviria constituyen un...</td>\n",
       "    </tr>\n",
       "    <tr>\n",
       "      <th>2</th>\n",
       "      <td>10664</td>\n",
       "      <td>https://www.eltiempo.com/cultura/gastronomia/c...</td>\n",
       "      <td>Mejor con chimichurri / El Caldero</td>\n",
       "      <td>¿Dónde encontrar esa buena salsa para aderezar...</td>\n",
       "      <td>Del inagotable repertorio de las salsas, no cr...</td>\n",
       "      <td>cultura</td>\n",
       "      <td>del inagotable repertorio de las salsas no cre...</td>\n",
       "    </tr>\n",
       "    <tr>\n",
       "      <th>3</th>\n",
       "      <td>10517</td>\n",
       "      <td>https://www.eltiempo.com/cultura/arte-y-teatro...</td>\n",
       "      <td>Secretos coloniales de la Casa 1537 de Cartagena</td>\n",
       "      <td>Este sitio, que fue catedral, colegio y hospit...</td>\n",
       "      <td>La Casa 1537, ubicada en la calle del Colegio ...</td>\n",
       "      <td>cultura</td>\n",
       "      <td>la casa  ubicada en la calle del colegio del c...</td>\n",
       "    </tr>\n",
       "    <tr>\n",
       "      <th>4</th>\n",
       "      <td>10848</td>\n",
       "      <td>https://www.eltiempo.com/cultura/musica-y-libr...</td>\n",
       "      <td>Judas Priest, Helloween y Kreator estarán en e...</td>\n",
       "      <td>El festival será el 26 de octubre en el Hipódr...</td>\n",
       "      <td>Judas Priest, la banda británica fundamental e...</td>\n",
       "      <td>cultura</td>\n",
       "      <td>judas priest la banda británica fundamental en...</td>\n",
       "    </tr>\n",
       "  </tbody>\n",
       "</table>\n",
       "</div>"
      ],
      "text/plain": [
       "   Columna1                                            Enlaces  \\\n",
       "0     10909  https://www.eltiempo.com/cultura/musica-y-libr...   \n",
       "1     10562  https://www.eltiempo.com/cultura/cine-y-tv/cri...   \n",
       "2     10664  https://www.eltiempo.com/cultura/gastronomia/c...   \n",
       "3     10517  https://www.eltiempo.com/cultura/arte-y-teatro...   \n",
       "4     10848  https://www.eltiempo.com/cultura/musica-y-libr...   \n",
       "\n",
       "                                              Título  \\\n",
       "0           Luis Miguel, 50 años de un sol sin ocaso   \n",
       "1                         Críticamente: Aquí y ahora   \n",
       "2                 Mejor con chimichurri / El Caldero   \n",
       "3   Secretos coloniales de la Casa 1537 de Cartagena   \n",
       "4  Judas Priest, Helloween y Kreator estarán en e...   \n",
       "\n",
       "                                                info  \\\n",
       "0  'El Sol de México' cumple 50 años. Su historia...   \n",
       "1  Las películas de Víctor Gaviria constituyen un...   \n",
       "2  ¿Dónde encontrar esa buena salsa para aderezar...   \n",
       "3  Este sitio, que fue catedral, colegio y hospit...   \n",
       "4  El festival será el 26 de octubre en el Hipódr...   \n",
       "\n",
       "                                           contenido Etiqueta  \\\n",
       "0  Siendo un niño, ‘El Sol de México’ se convirti...  cultura   \n",
       "1  Las películas de Víctor Gaviria constituyen un...  cultura   \n",
       "2  Del inagotable repertorio de las salsas, no cr...  cultura   \n",
       "3  La Casa 1537, ubicada en la calle del Colegio ...  cultura   \n",
       "4  Judas Priest, la banda británica fundamental e...  cultura   \n",
       "\n",
       "                              contenido_preprocesado  \n",
       "0  siendo un niño el sol de méxico se convirtió e...  \n",
       "1  las películas de víctor gaviria constituyen un...  \n",
       "2  del inagotable repertorio de las salsas no cre...  \n",
       "3  la casa  ubicada en la calle del colegio del c...  \n",
       "4  judas priest la banda británica fundamental en...  "
      ]
     },
     "execution_count": 65,
     "metadata": {},
     "output_type": "execute_result"
    }
   ],
   "source": [
    "df_submuestreado.head(5)"
   ]
  },
  {
   "cell_type": "markdown",
   "metadata": {},
   "source": [
    "# Paso 2: Eliminación de stop words"
   ]
  },
  {
   "cell_type": "code",
   "execution_count": 66,
   "metadata": {},
   "outputs": [
    {
     "data": {
      "text/html": [
       "<div>\n",
       "<style scoped>\n",
       "    .dataframe tbody tr th:only-of-type {\n",
       "        vertical-align: middle;\n",
       "    }\n",
       "\n",
       "    .dataframe tbody tr th {\n",
       "        vertical-align: top;\n",
       "    }\n",
       "\n",
       "    .dataframe thead th {\n",
       "        text-align: right;\n",
       "    }\n",
       "</style>\n",
       "<table border=\"1\" class=\"dataframe\">\n",
       "  <thead>\n",
       "    <tr style=\"text-align: right;\">\n",
       "      <th></th>\n",
       "      <th>contenido_preprocesado</th>\n",
       "      <th>contenido_preprocesado_sin_stopwords</th>\n",
       "    </tr>\n",
       "  </thead>\n",
       "  <tbody>\n",
       "    <tr>\n",
       "      <th>0</th>\n",
       "      <td>siendo un niño el sol de méxico se convirtió e...</td>\n",
       "      <td>siendo niño sol méxico convirtió auténtico fen...</td>\n",
       "    </tr>\n",
       "    <tr>\n",
       "      <th>1</th>\n",
       "      <td>las películas de víctor gaviria constituyen un...</td>\n",
       "      <td>películas víctor gaviria constituyen capítulo ...</td>\n",
       "    </tr>\n",
       "    <tr>\n",
       "      <th>2</th>\n",
       "      <td>del inagotable repertorio de las salsas no cre...</td>\n",
       "      <td>inagotable repertorio salsas creo recordar sup...</td>\n",
       "    </tr>\n",
       "    <tr>\n",
       "      <th>3</th>\n",
       "      <td>la casa  ubicada en la calle del colegio del c...</td>\n",
       "      <td>casa ubicada calle colegio centro histórico ca...</td>\n",
       "    </tr>\n",
       "    <tr>\n",
       "      <th>4</th>\n",
       "      <td>judas priest la banda británica fundamental en...</td>\n",
       "      <td>judas priest banda británica fundamental escen...</td>\n",
       "    </tr>\n",
       "  </tbody>\n",
       "</table>\n",
       "</div>"
      ],
      "text/plain": [
       "                              contenido_preprocesado  \\\n",
       "0  siendo un niño el sol de méxico se convirtió e...   \n",
       "1  las películas de víctor gaviria constituyen un...   \n",
       "2  del inagotable repertorio de las salsas no cre...   \n",
       "3  la casa  ubicada en la calle del colegio del c...   \n",
       "4  judas priest la banda británica fundamental en...   \n",
       "\n",
       "                contenido_preprocesado_sin_stopwords  \n",
       "0  siendo niño sol méxico convirtió auténtico fen...  \n",
       "1  películas víctor gaviria constituyen capítulo ...  \n",
       "2  inagotable repertorio salsas creo recordar sup...  \n",
       "3  casa ubicada calle colegio centro histórico ca...  \n",
       "4  judas priest banda británica fundamental escen...  "
      ]
     },
     "execution_count": 66,
     "metadata": {},
     "output_type": "execute_result"
    }
   ],
   "source": [
    "# Eliminar stop words\n",
    "stop_words = set(stopwords.words('spanish'))\n",
    "# Función para eliminar stop words de una lista de palabras\n",
    "def eliminar_stopwords(text):\n",
    "    words = [word for word in text.split() if word.lower() not in stop_words]\n",
    "    return ' '.join(words)\n",
    "\n",
    "# Eliminar stop words\n",
    "df_submuestreado['contenido_preprocesado_sin_stopwords'] = df_submuestreado['contenido_preprocesado'].apply(eliminar_stopwords)\n",
    "\n",
    "# Mostrar una vista previa de los tokens sin stop words\n",
    "df_submuestreado[['contenido_preprocesado', 'contenido_preprocesado_sin_stopwords']].head(5)"
   ]
  },
  {
   "cell_type": "markdown",
   "metadata": {},
   "source": [
    "# Quitar tildes"
   ]
  },
  {
   "cell_type": "code",
   "execution_count": 67,
   "metadata": {},
   "outputs": [],
   "source": [
    "def quitar_tildes(text):\n",
    "    vocales_map = {\"á\": \"a\", \"é\": \"e\", \"í\": \"i\", \"ó\": \"o\", \"ú\": \"u\", \"ñ\":\"n\", \"ü\":\"u\"}\n",
    "    patron = r\"[áéíóúñü]\"\n",
    "    # Quitar tildes\n",
    "    text = re.sub(patron, lambda x: vocales_map[x.group()], text)\n",
    "    return text\n",
    "\n",
    "#Quitar tildes\n",
    "df_submuestreado['contenido_preprocesado_sin_stopwords_tildes'] = df_submuestreado['contenido_preprocesado_sin_stopwords'].apply(quitar_tildes)"
   ]
  },
  {
   "cell_type": "code",
   "execution_count": 68,
   "metadata": {},
   "outputs": [
    {
     "data": {
      "text/plain": [
       "0    siendo nino sol mexico convirtio autentico fen...\n",
       "1    peliculas victor gaviria constituyen capitulo ...\n",
       "2    inagotable repertorio salsas creo recordar sup...\n",
       "3    casa ubicada calle colegio centro historico ca...\n",
       "4    judas priest banda britanica fundamental escen...\n",
       "Name: contenido_preprocesado_sin_stopwords_tildes, dtype: object"
      ]
     },
     "execution_count": 68,
     "metadata": {},
     "output_type": "execute_result"
    }
   ],
   "source": [
    "df_submuestreado['contenido_preprocesado_sin_stopwords_tildes'].head(5)"
   ]
  },
  {
   "cell_type": "markdown",
   "metadata": {},
   "source": [
    "# Paso 3: Tokenización"
   ]
  },
  {
   "cell_type": "code",
   "execution_count": 69,
   "metadata": {},
   "outputs": [
    {
     "data": {
      "text/html": [
       "<div>\n",
       "<style scoped>\n",
       "    .dataframe tbody tr th:only-of-type {\n",
       "        vertical-align: middle;\n",
       "    }\n",
       "\n",
       "    .dataframe tbody tr th {\n",
       "        vertical-align: top;\n",
       "    }\n",
       "\n",
       "    .dataframe thead th {\n",
       "        text-align: right;\n",
       "    }\n",
       "</style>\n",
       "<table border=\"1\" class=\"dataframe\">\n",
       "  <thead>\n",
       "    <tr style=\"text-align: right;\">\n",
       "      <th></th>\n",
       "      <th>contenido_preprocesado_sin_stopwords_tildes</th>\n",
       "      <th>tokens</th>\n",
       "    </tr>\n",
       "  </thead>\n",
       "  <tbody>\n",
       "    <tr>\n",
       "      <th>0</th>\n",
       "      <td>siendo nino sol mexico convirtio autentico fen...</td>\n",
       "      <td>[siendo, nino, sol, mexico, convirtio, autenti...</td>\n",
       "    </tr>\n",
       "    <tr>\n",
       "      <th>1</th>\n",
       "      <td>peliculas victor gaviria constituyen capitulo ...</td>\n",
       "      <td>[peliculas, victor, gaviria, constituyen, capi...</td>\n",
       "    </tr>\n",
       "    <tr>\n",
       "      <th>2</th>\n",
       "      <td>inagotable repertorio salsas creo recordar sup...</td>\n",
       "      <td>[inagotable, repertorio, salsas, creo, recorda...</td>\n",
       "    </tr>\n",
       "    <tr>\n",
       "      <th>3</th>\n",
       "      <td>casa ubicada calle colegio centro historico ca...</td>\n",
       "      <td>[casa, ubicada, calle, colegio, centro, histor...</td>\n",
       "    </tr>\n",
       "    <tr>\n",
       "      <th>4</th>\n",
       "      <td>judas priest banda britanica fundamental escen...</td>\n",
       "      <td>[judas, priest, banda, britanica, fundamental,...</td>\n",
       "    </tr>\n",
       "  </tbody>\n",
       "</table>\n",
       "</div>"
      ],
      "text/plain": [
       "         contenido_preprocesado_sin_stopwords_tildes  \\\n",
       "0  siendo nino sol mexico convirtio autentico fen...   \n",
       "1  peliculas victor gaviria constituyen capitulo ...   \n",
       "2  inagotable repertorio salsas creo recordar sup...   \n",
       "3  casa ubicada calle colegio centro historico ca...   \n",
       "4  judas priest banda britanica fundamental escen...   \n",
       "\n",
       "                                              tokens  \n",
       "0  [siendo, nino, sol, mexico, convirtio, autenti...  \n",
       "1  [peliculas, victor, gaviria, constituyen, capi...  \n",
       "2  [inagotable, repertorio, salsas, creo, recorda...  \n",
       "3  [casa, ubicada, calle, colegio, centro, histor...  \n",
       "4  [judas, priest, banda, britanica, fundamental,...  "
      ]
     },
     "execution_count": 69,
     "metadata": {},
     "output_type": "execute_result"
    }
   ],
   "source": [
    "# Tokenización\n",
    "df_submuestreado['tokens'] = df_submuestreado['contenido_preprocesado_sin_stopwords_tildes'].apply(word_tokenize)\n",
    "\n",
    "# Mostrar una vista previa de los tokens\n",
    "df_submuestreado[['contenido_preprocesado_sin_stopwords_tildes', 'tokens']].head(5)"
   ]
  },
  {
   "cell_type": "markdown",
   "metadata": {},
   "source": [
    "# Paso 4: Padding"
   ]
  },
  {
   "cell_type": "code",
   "execution_count": 70,
   "metadata": {},
   "outputs": [
    {
     "data": {
      "text/plain": [
       "array([[ 4894,     5,   374,   270,    54,  1589,  2341, 16782,  2507,\n",
       "          254,    51,   130,  1216,   939,   254,  1020,   363,   120,\n",
       "          383,    72,   255,  2691, 16783,   807,  7660,   824,  4365,\n",
       "          250,  2885, 11262,  5197,    74,   276,  5965,   557,  1057,\n",
       "          294,  1419,   113,    79,   201,   153,   976,   196,   800,\n",
       "          593,  6985,    19,     1,    43,    26,    13,    40,    38,\n",
       "           46,    32,    15,    27,    33,    21,     5,    18,     4,\n",
       "            1,    29,    28,    34,    23,    24,    42,    39,     2,\n",
       "           10,    22,    47,     4,     1,    35,     7,    25,    17,\n",
       "            6,    44,     9,     2,     1,    30,    36,    31,    11,\n",
       "            3,    16,     1,    41,     8,    12,    14,    45,     3,\n",
       "           37],\n",
       "       [   57,   740,   443,  8553, 23081, 13451,  1857,  4898,  4152,\n",
       "        23082,  2509,   348, 16790,  3080,   349,  5564,   398,  1806,\n",
       "        23083,  6445,  6446,   940,  4634, 23084,  9714,  2434,  9715,\n",
       "        23085,    65,  2343, 23086,   150,  5563,  4153,   336,  2967,\n",
       "          345,   914,  8554,  1918,  6988,   330,    77,  1071,  1712,\n",
       "         1381,   494,    19,     1,    43,    26,    13,    40,    38,\n",
       "           46,    32,    15,    27,    33,    21,     5,    18,     4,\n",
       "            1,    29,    28,    34,    23,    24,    42,    39,     2,\n",
       "           10,    22,    47,     4,     1,    35,     7,    25,    17,\n",
       "            6,    44,     9,     2,     1,    30,    36,    31,    11,\n",
       "            3,    16,     1,    41,     8,    12,    14,    45,     3,\n",
       "           37],\n",
       "       [23105, 13459,  2011, 11271,  1590, 23106,  3617,  6993,  2584,\n",
       "        13460, 13461,  1131,  7665,  1218, 23107, 13462, 23108, 23109,\n",
       "          126, 23110,   346,  1330, 16802, 13461, 11272, 11268,  6445,\n",
       "        23111,  7662,   100,  5967,    66,  4901,  7666, 23112,   112,\n",
       "          652, 16803,  1021,   453,    84,  1243,  9717,  1381,  6994,\n",
       "         2344, 13463,    19,     1,    43,    26,    13,    40,    38,\n",
       "           46,    32,    15,    27,    33,    21,     5,    18,     4,\n",
       "            1,    29,    28,    34,    23,    24,    42,    39,     2,\n",
       "           10,    22,    47,     4,     1,    35,     7,    25,    17,\n",
       "            6,    44,     9,     2,     1,    30,    36,    31,    11,\n",
       "            3,    16,     1,    41,     8,    12,    14,    45,     3,\n",
       "           37],\n",
       "       [ 2345, 13469,  7675,  5571,  2211,   307,   350, 16818,  3791,\n",
       "        23132, 16819,   758,   609,  1810, 11283,  5572,    93,  1547,\n",
       "          112, 13473,    90,  1384,   170,  1548,   164, 11284,   286,\n",
       "         2345, 13471,    93,    57,  4160, 16810,   196,  1021,   479,\n",
       "         1243,  1308,   454,   280,   117,   210,   117,  1549,  8564,\n",
       "           53,   479,    19,     1,    43,    26,    13,    40,    38,\n",
       "           46,    32,    15,    27,    33,    21,     5,    18,     4,\n",
       "            1,    29,    28,    34,    23,    24,    42,    39,     2,\n",
       "           10,    22,    47,     4,     1,    35,     7,    25,    17,\n",
       "            6,    44,     9,     2,     1,    30,    36,    31,    11,\n",
       "            3,    16,     1,    41,     8,    12,    14,    45,     3,\n",
       "           37],\n",
       "       [   91, 23140,   114,   276,   669,  1130,  4374, 23141,  1008,\n",
       "           82,    70,   713, 23142, 13476, 23143,  1189, 16827, 23144,\n",
       "         1001, 23145, 23146,  5205, 16828, 16829, 23147, 23148,   114,\n",
       "            2,  4161, 23149,   670,  1964,  5206, 23150, 23151,  4908,\n",
       "         2212, 16830, 13477,  4375,  3181,   179,  2792,  1219, 23152,\n",
       "          221,   927,    19,     1,    43,    26,    13,    40,    38,\n",
       "           46,    32,    15,    27,    33,    21,     5,    18,     4,\n",
       "            1,    29,    28,    34,    23,    24,    42,    39,     2,\n",
       "           10,    22,    47,     4,     1,    35,     7,    25,    17,\n",
       "            6,    44,     9,     2,     1,    30,    36,    31,    11,\n",
       "            3,    16,     1,    41,     8,    12,    14,    45,     3,\n",
       "           37]])"
      ]
     },
     "execution_count": 70,
     "metadata": {},
     "output_type": "execute_result"
    }
   ],
   "source": [
    "# Crear el tokenizer y ajustar sobre los textos\n",
    "tokenizer = Tokenizer()\n",
    "\n",
    "# Convertir las secuencias de texto a secuencias de enteros\n",
    "tokenizer.fit_on_texts(df_submuestreado['tokens'])\n",
    "secuencias = tokenizer.texts_to_sequences(df_submuestreado['tokens'])\n",
    "word_index = tokenizer.word_index\n",
    "\n",
    "# Aplicar padding a las secuencias\n",
    "max_len = 100  # Define la longitud máxima de las secuencias\n",
    "secuencias_padded = pad_sequences(secuencias, maxlen=max_len, padding='post')\n",
    "\n",
    "# Mostrar algunas secuencias preprocesadas\n",
    "secuencias_padded[:5]"
   ]
  },
  {
   "cell_type": "markdown",
   "metadata": {},
   "source": [
    "# Ejercicio 4\n",
    "\n",
    "División del Conjunto de Datos\n",
    "\n",
    "**Objetivo:** Crear conjuntos de datos de entrenamiento y validación para evaluar el modelo.\n",
    "\n",
    "**Acciones:**\n",
    "* Dividir el conjunto de datos preprocesado en dos partes: uno para entrenar el modelo y otro para validarlo.\n",
    "* Asegurarse de que la división sea aleatoria, pero que mantenga una proporción similar de las categorías en ambos conjuntos."
   ]
  },
  {
   "cell_type": "code",
   "execution_count": 71,
   "metadata": {},
   "outputs": [
    {
     "data": {
      "text/plain": [
       "(1097, 275)"
      ]
     },
     "execution_count": 71,
     "metadata": {},
     "output_type": "execute_result"
    }
   ],
   "source": [
    "# Codificación de etiquetas\n",
    "label_encoder = LabelEncoder()\n",
    "df_submuestreado['Etiqueta_codificada'] = label_encoder.fit_transform(df_submuestreado['Etiqueta'])\n",
    "\n",
    "# División del conjunto de datos\n",
    "X_train, X_val, y_train, y_val = train_test_split(secuencias_padded, df_submuestreado['Etiqueta_codificada'], test_size=0.2, random_state=42)\n",
    "\n",
    "# Mostrar tamaño de los conjuntos de datos\n",
    "len(X_train), len(X_val)"
   ]
  },
  {
   "cell_type": "markdown",
   "metadata": {},
   "source": [
    "# Ejercicio 5\n",
    "\n",
    "Implementación de un Modelo RNN\n",
    "\n",
    "**Objetivo:** Construir y entrenar un modelo RNN para clasificar las noticias.\n",
    "**Acciones:**\n",
    "* Definir la arquitectura del modelo RNN, incluyendo capas de embedding y capas recurrentes.\n",
    "* Configurar los hiperparámetros del modelo, como el tamaño del embedding y el número de unidades recurrentes.\n",
    "* Entrenar el modelo utilizando el conjunto de datos de entrenamiento y evaluar su rendimiento en el conjunto de validación."
   ]
  },
  {
   "cell_type": "markdown",
   "metadata": {},
   "source": [
    "# Ejercicio 6\n",
    "\n",
    "Implementación de un Modelo LSTM\n",
    "\n",
    "**Objetivo:** Construir y entrenar un modelo LSTM para clasificar las noticias.\n",
    "\n",
    "**Acciones:**\n",
    "* Definir la arquitectura del modelo LSTM, que incluye celdas LSTM diseñadas para manejar dependencias a largo plazo más eficientemente.\n",
    "* Configurar los hiperparámetros del modelo, similar al proceso del modelo RNN.\n",
    "* Entrenar el modelo LSTM y evaluar su rendimiento utilizando los mismos conjuntos de datos."
   ]
  },
  {
   "cell_type": "markdown",
   "metadata": {},
   "source": [
    "# Ejercicio 7\n",
    "\n",
    "Comparación de Resultados\n",
    "\n",
    "**Objetivo:** Evaluar y comparar el rendimiento de los modelos RNN y LSTM.\n",
    "\n",
    "**Acciones:**\n",
    "* Calcular y comparar métricas de rendimiento como precisión, recall y F1-score para ambos modelos.\n",
    "* Visualizar las curvas de aprendizaje y los resultados de validación para entender mejor cómo se desempeñan los modelos en las tareas de clasificación.\n",
    "* Comparar los modelos permite entender las fortalezas y debilidades de cada enfoque, proporcionando información valiosa para elegir el modelo más adecuado para tareas específicas de clasificación de texto. Documentar estos resultados de forma asertiva en el cuaderno y en el informe."
   ]
  },
  {
   "cell_type": "markdown",
   "metadata": {},
   "source": [
    "# Ejercicio 8\n",
    "\n",
    "Evaluación y Conclusiones\n",
    "\n",
    "**Objetivo:** Sintetizar los hallazgos y discutir las implicaciones prácticas.\n",
    "\n",
    "**Acciones:**\n",
    "* Documentar los resultados obtenidos en un informe detallado, incluyendo gráficos y análisis de las métricas de rendimiento.\n",
    "* Discutir las implicaciones de los resultados para aplicaciones prácticas de NLP, como la automatización de la clasificación de noticias en sistemas de recomendación o análisis de medios.\n",
    "* Proponer posibles mejoras y futuras direcciones de investigación, como la exploración de arquitecturas híbridas o la integración de mecanismos de atención."
   ]
  }
 ],
 "metadata": {
  "kernelspec": {
   "display_name": "ipyk_NPL_poetry",
   "language": "python",
   "name": "ipyk_npl_poetry"
  },
  "language_info": {
   "codemirror_mode": {
    "name": "ipython",
    "version": 3
   },
   "file_extension": ".py",
   "mimetype": "text/x-python",
   "name": "python",
   "nbconvert_exporter": "python",
   "pygments_lexer": "ipython3",
   "version": "3.10.11"
  }
 },
 "nbformat": 4,
 "nbformat_minor": 2
}

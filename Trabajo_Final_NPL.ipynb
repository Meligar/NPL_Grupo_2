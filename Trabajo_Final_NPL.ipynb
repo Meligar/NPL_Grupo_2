{
 "cells": [
  {
   "cell_type": "markdown",
   "metadata": {},
   "source": [
    "## Ejercicio 1.\n",
    "\n",
    "##### Carga y Exploración de Datos\n",
    "\n",
    "Objetivo: Familiarizarse con el conjunto de datos y comprender la distribución de las categorías.\n",
    "Acciones:\n",
    "* Cargar el archivo Noticias.xlsx que contiene las noticias.\n",
    "* Explorar la distribución de la columna Etiqueta para ver cuántas noticias pertenecen a cada categoría.\n",
    "* Visualizar esta distribución mediante gráficos para identificar las categorías más frecuentes.\n",
    "\n",
    "* Contexto: La columna Etiqueta en el conjunto de datos contiene categorías, algunas no especializadas o no tienen un enfoque específico (por ejemplo, \"archivo\"). Para esta actividad, nos centraremos en noticias de las categorías especializadas: deportes, cultura, economía y justicia. Estas categorías son relevantes porque representan temas con un enfoque claro y específico, lo que hace que la clasificación sea más útil y aplicable en el análisis de noticias."
   ]
  },
  {
   "cell_type": "code",
   "execution_count": null,
   "metadata": {},
   "outputs": [],
   "source": []
  }
 ],
 "metadata": {
  "kernelspec": {
   "display_name": "env_NPL_poetry",
   "language": "python",
   "name": "python3"
  },
  "language_info": {
   "name": "python",
   "version": "3.10.11"
  }
 },
 "nbformat": 4,
 "nbformat_minor": 2
}
